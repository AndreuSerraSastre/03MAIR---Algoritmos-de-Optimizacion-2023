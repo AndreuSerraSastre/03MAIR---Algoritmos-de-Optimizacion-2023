{
  "nbformat": 4,
  "nbformat_minor": 0,
  "metadata": {
    "colab": {
      "provenance": [],
      "authorship_tag": "ABX9TyPMPDlaiDsp6Nnu6HDBCQ+n",
      "include_colab_link": true
    },
    "kernelspec": {
      "name": "python3",
      "display_name": "Python 3"
    },
    "language_info": {
      "name": "python"
    }
  },
  "cells": [
    {
      "cell_type": "markdown",
      "metadata": {
        "id": "view-in-github",
        "colab_type": "text"
      },
      "source": [
        "<a href=\"https://colab.research.google.com/github/AndreuSerraSastre/03MAIR---Algoritmos-de-Optimizacion-2023/blob/main/Algoritmos_Andreu_Serra_AG1.ipynb\" target=\"_parent\"><img src=\"https://colab.research.google.com/assets/colab-badge.svg\" alt=\"Open In Colab\"/></a>"
      ]
    },
    {
      "cell_type": "markdown",
      "source": [
        "#Actividad Guiada 1\n",
        "\n",
        "##Andreu Serra Sastre\n",
        "\n",
        "###https://github.com/AndreuSerraSastre/03MAIR---Algoritmos-de-Optimizacion-2023.git"
      ],
      "metadata": {
        "id": "bw8IRAlBdjNi"
      }
    },
    {
      "cell_type": "markdown",
      "source": [
        "#Torres de Hanoi\n",
        "\n",
        "##Divide y vencerás\n",
        "\n",
        "###Resolver por recursividad"
      ],
      "metadata": {
        "id": "OpBdtzrRd9Mw"
      }
    },
    {
      "cell_type": "code",
      "source": [
        "def torres_hanoi(N, origen, destino, pivote):\n",
        "  if N == 1:\n",
        "    print(f\"Mover bloque desde {origen} a {destino}\")\n",
        "    return\n",
        "\n",
        "  torres_hanoi(N-1, origen, pivote, destino)\n",
        "  print(f\"Mover bloque desde {origen} a {destino}\")\n",
        "  torres_hanoi(N-1, pivote, destino, origen)"
      ],
      "metadata": {
        "id": "CAkw2fbFdt_0"
      },
      "execution_count": 76,
      "outputs": []
    },
    {
      "cell_type": "code",
      "source": [
        "torres_hanoi(4, 1, 3, 2)"
      ],
      "metadata": {
        "colab": {
          "base_uri": "https://localhost:8080/"
        },
        "id": "Ov423jSFhYVo",
        "outputId": "83b7e06b-b064-4772-a32f-46863c9b6ba3"
      },
      "execution_count": 77,
      "outputs": [
        {
          "output_type": "stream",
          "name": "stdout",
          "text": [
            "Mover bloque desde 1 a 2\n",
            "Mover bloque desde 1 a 3\n",
            "Mover bloque desde 2 a 3\n",
            "Mover bloque desde 1 a 2\n",
            "Mover bloque desde 3 a 1\n",
            "Mover bloque desde 3 a 2\n",
            "Mover bloque desde 1 a 2\n",
            "Mover bloque desde 1 a 3\n",
            "Mover bloque desde 2 a 3\n",
            "Mover bloque desde 2 a 1\n",
            "Mover bloque desde 3 a 1\n",
            "Mover bloque desde 2 a 3\n",
            "Mover bloque desde 1 a 2\n",
            "Mover bloque desde 1 a 3\n",
            "Mover bloque desde 2 a 3\n"
          ]
        }
      ]
    },
    {
      "cell_type": "markdown",
      "source": [
        "#Monedas"
      ],
      "metadata": {
        "id": "nzGFoe9sw8E7"
      }
    },
    {
      "cell_type": "code",
      "source": [
        "!pip install numpy"
      ],
      "metadata": {
        "colab": {
          "base_uri": "https://localhost:8080/"
        },
        "id": "BP336dQ0pokw",
        "outputId": "ca52cf2e-57ab-4789-deea-641a4a155f75"
      },
      "execution_count": 78,
      "outputs": [
        {
          "output_type": "stream",
          "name": "stdout",
          "text": [
            "Looking in indexes: https://pypi.org/simple, https://us-python.pkg.dev/colab-wheels/public/simple/\n",
            "Requirement already satisfied: numpy in /usr/local/lib/python3.10/dist-packages (1.22.4)\n"
          ]
        }
      ]
    },
    {
      "cell_type": "code",
      "source": [
        "import numpy as np\n",
        "\n",
        "\n",
        "def cambio_monedas(cantidad, sistema):\n",
        "  sistema.sort(reverse=True)\n",
        "  print(f\"Sistema: {sistema}\")\n",
        "  solucion = np.zeros(len(sistema), dtype=int)\n",
        "  valor_acumulado = 0\n",
        "  i = 0\n",
        "  for moneda in sistema:\n",
        "    monedas = int((cantidad - valor_acumulado)/moneda)\n",
        "    solucion[i] = monedas\n",
        "    valor_acumulado += monedas*moneda\n",
        "    if valor_acumulado == cantidad:\n",
        "      print(f\"Solución: {solucion}\")\n",
        "      return solucion\n",
        "    i += 1\n",
        "  print(\"No es posible hacer cambio exacto con las monedas proporcionadas.\")\n",
        "  return None"
      ],
      "metadata": {
        "id": "3gqn7CK0o7K8"
      },
      "execution_count": 79,
      "outputs": []
    },
    {
      "cell_type": "code",
      "source": [
        "cambio_monedas(54, [10,25,5,1])"
      ],
      "metadata": {
        "colab": {
          "base_uri": "https://localhost:8080/"
        },
        "id": "BFKwnJyMptc6",
        "outputId": "0a6886dc-77a9-4b76-e457-4a10699bc0ba"
      },
      "execution_count": 80,
      "outputs": [
        {
          "output_type": "stream",
          "name": "stdout",
          "text": [
            "Sistema: [25, 10, 5, 1]\n",
            "Solución: [2 0 0 4]\n"
          ]
        },
        {
          "output_type": "execute_result",
          "data": {
            "text/plain": [
              "array([2, 0, 0, 4])"
            ]
          },
          "metadata": {},
          "execution_count": 80
        }
      ]
    },
    {
      "cell_type": "code",
      "source": [
        "def cambio_monedas(cantidad, sistema):\n",
        "  sistema.sort(reverse=True)\n",
        "  solucion = [0] * len(sistema)\n",
        "\n",
        "  for i, moneda in enumerate(sistema):\n",
        "    solucion[i], cantidad = divmod(cantidad, moneda)\n",
        "\n",
        "  return solucion"
      ],
      "metadata": {
        "id": "JNrUd304uLza"
      },
      "execution_count": 81,
      "outputs": []
    },
    {
      "cell_type": "code",
      "source": [
        "cambio_monedas(54, [10,25,5,1])"
      ],
      "metadata": {
        "colab": {
          "base_uri": "https://localhost:8080/"
        },
        "id": "cRMrv2rmvjj5",
        "outputId": "040aa145-dc08-49b1-bb42-2a41acd7d2ca"
      },
      "execution_count": 82,
      "outputs": [
        {
          "output_type": "execute_result",
          "data": {
            "text/plain": [
              "[2, 0, 0, 4]"
            ]
          },
          "metadata": {},
          "execution_count": 82
        }
      ]
    },
    {
      "cell_type": "markdown",
      "source": [
        "#Practica individual"
      ],
      "metadata": {
        "id": "PbFN6PQMyxVt"
      }
    },
    {
      "cell_type": "code",
      "source": [
        "def distancia_1D(a, b):\n",
        "  return abs(a - b)"
      ],
      "metadata": {
        "id": "yrixobg9zZI_"
      },
      "execution_count": 83,
      "outputs": []
    },
    {
      "cell_type": "code",
      "source": [
        "def puntos_cercanos(puntos):\n",
        "  distancia = -1\n",
        "  result = []\n",
        "  for a in puntos:\n",
        "    for b in puntos:\n",
        "      if a !=b and (distancia == -1 or distancia_1D(a,b) < distancia):\n",
        "        distancia = distancia_1D(a,b)\n",
        "        result = [a, b]\n",
        "  return result"
      ],
      "metadata": {
        "id": "b4o0VC87y0i1"
      },
      "execution_count": 103,
      "outputs": []
    },
    {
      "cell_type": "code",
      "source": [
        "puntos = [3, 7, 15, 1, 10, 5, 11, 18]"
      ],
      "metadata": {
        "id": "3XttVWQlzxw4"
      },
      "execution_count": 106,
      "outputs": []
    },
    {
      "cell_type": "code",
      "source": [
        "puntos_cercanos(puntos)"
      ],
      "metadata": {
        "colab": {
          "base_uri": "https://localhost:8080/"
        },
        "id": "v_4LWHej0O8_",
        "outputId": "68bcc330-cea3-46bd-96d2-1d7379d292fd"
      },
      "execution_count": 107,
      "outputs": [
        {
          "output_type": "execute_result",
          "data": {
            "text/plain": [
              "[10, 11]"
            ]
          },
          "metadata": {},
          "execution_count": 107
        }
      ]
    },
    {
      "cell_type": "code",
      "source": [],
      "metadata": {
        "id": "SKORF7010Qf4"
      },
      "execution_count": null,
      "outputs": []
    }
  ]
}