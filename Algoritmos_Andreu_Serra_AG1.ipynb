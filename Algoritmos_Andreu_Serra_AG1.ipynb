{
  "nbformat": 4,
  "nbformat_minor": 0,
  "metadata": {
    "colab": {
      "provenance": [],
      "authorship_tag": "ABX9TyOhFjhlvjyMkYnTm2+Rog97",
      "include_colab_link": true
    },
    "kernelspec": {
      "name": "python3",
      "display_name": "Python 3"
    },
    "language_info": {
      "name": "python"
    }
  },
  "cells": [
    {
      "cell_type": "markdown",
      "metadata": {
        "id": "view-in-github",
        "colab_type": "text"
      },
      "source": [
        "<a href=\"https://colab.research.google.com/github/AndreuSerraSastre/03MAIR---Algoritmos-de-Optimizacion-2023/blob/main/Algoritmos_Andreu_Serra_AG1.ipynb\" target=\"_parent\"><img src=\"https://colab.research.google.com/assets/colab-badge.svg\" alt=\"Open In Colab\"/></a>"
      ]
    },
    {
      "cell_type": "markdown",
      "source": [
        "#Actividad Guiada 1\n",
        "\n",
        "##Andreu Serra Sastre\n",
        "\n",
        "###https://github.com/AndreuSerraSastre/03MAIR---Algoritmos-de-Optimizacion-2023.git"
      ],
      "metadata": {
        "id": "bw8IRAlBdjNi"
      }
    },
    {
      "cell_type": "markdown",
      "source": [
        "#Torres de Hanoi\n",
        "\n",
        "##Divide y vencerás\n",
        "\n",
        "###Resolver por recursividad"
      ],
      "metadata": {
        "id": "OpBdtzrRd9Mw"
      }
    },
    {
      "cell_type": "code",
      "source": [
        "def torres_hanoi(N, origen, destino, pivote):\n",
        "  if N == 1:\n",
        "    print(f\"Mover bloque desde {origen} a {destino}\")\n",
        "    return\n",
        "\n",
        "  torres_hanoi(N-1, origen, pivote, destino)\n",
        "  print(f\"Mover bloque desde {origen} a {destino}\")\n",
        "  torres_hanoi(N-1, pivote, destino, origen)"
      ],
      "metadata": {
        "id": "CAkw2fbFdt_0"
      },
      "execution_count": 241,
      "outputs": []
    },
    {
      "cell_type": "code",
      "source": [
        "torres_hanoi(4, 1, 3, 2)"
      ],
      "metadata": {
        "colab": {
          "base_uri": "https://localhost:8080/"
        },
        "id": "Ov423jSFhYVo",
        "outputId": "b04c00eb-ff9b-4c16-f84e-8b82dd0e8dda"
      },
      "execution_count": 242,
      "outputs": [
        {
          "output_type": "stream",
          "name": "stdout",
          "text": [
            "Mover bloque desde 1 a 2\n",
            "Mover bloque desde 1 a 3\n",
            "Mover bloque desde 2 a 3\n",
            "Mover bloque desde 1 a 2\n",
            "Mover bloque desde 3 a 1\n",
            "Mover bloque desde 3 a 2\n",
            "Mover bloque desde 1 a 2\n",
            "Mover bloque desde 1 a 3\n",
            "Mover bloque desde 2 a 3\n",
            "Mover bloque desde 2 a 1\n",
            "Mover bloque desde 3 a 1\n",
            "Mover bloque desde 2 a 3\n",
            "Mover bloque desde 1 a 2\n",
            "Mover bloque desde 1 a 3\n",
            "Mover bloque desde 2 a 3\n"
          ]
        }
      ]
    },
    {
      "cell_type": "markdown",
      "source": [
        "#Monedas"
      ],
      "metadata": {
        "id": "nzGFoe9sw8E7"
      }
    },
    {
      "cell_type": "code",
      "source": [
        "!pip install numpy"
      ],
      "metadata": {
        "colab": {
          "base_uri": "https://localhost:8080/"
        },
        "id": "BP336dQ0pokw",
        "outputId": "83468569-8b6e-4e28-bca1-12351c904d9b"
      },
      "execution_count": 243,
      "outputs": [
        {
          "output_type": "stream",
          "name": "stdout",
          "text": [
            "Looking in indexes: https://pypi.org/simple, https://us-python.pkg.dev/colab-wheels/public/simple/\n",
            "Requirement already satisfied: numpy in /usr/local/lib/python3.10/dist-packages (1.22.4)\n"
          ]
        }
      ]
    },
    {
      "cell_type": "code",
      "source": [
        "import numpy as np\n",
        "\n",
        "\n",
        "def cambio_monedas(cantidad, sistema):\n",
        "  sistema.sort(reverse=True)\n",
        "  print(f\"Sistema: {sistema}\")\n",
        "  solucion = np.zeros(len(sistema), dtype=int)\n",
        "  valor_acumulado = 0\n",
        "  i = 0\n",
        "  for moneda in sistema:\n",
        "    monedas = int((cantidad - valor_acumulado)/moneda)\n",
        "    solucion[i] = monedas\n",
        "    valor_acumulado += monedas*moneda\n",
        "    if valor_acumulado == cantidad:\n",
        "      print(f\"Solución: {solucion}\")\n",
        "      return solucion\n",
        "    i += 1\n",
        "  print(\"No es posible hacer cambio exacto con las monedas proporcionadas.\")\n",
        "  return None"
      ],
      "metadata": {
        "id": "3gqn7CK0o7K8"
      },
      "execution_count": 244,
      "outputs": []
    },
    {
      "cell_type": "code",
      "source": [
        "cambio_monedas(54, [10,25,5,1])"
      ],
      "metadata": {
        "colab": {
          "base_uri": "https://localhost:8080/"
        },
        "id": "BFKwnJyMptc6",
        "outputId": "1af15763-5072-4df8-a20f-2cefe7e18cc7"
      },
      "execution_count": 245,
      "outputs": [
        {
          "output_type": "stream",
          "name": "stdout",
          "text": [
            "Sistema: [25, 10, 5, 1]\n",
            "Solución: [2 0 0 4]\n"
          ]
        },
        {
          "output_type": "execute_result",
          "data": {
            "text/plain": [
              "array([2, 0, 0, 4])"
            ]
          },
          "metadata": {},
          "execution_count": 245
        }
      ]
    },
    {
      "cell_type": "code",
      "source": [
        "def cambio_monedas(cantidad, sistema):\n",
        "  sistema.sort(reverse=True)\n",
        "  solucion = [0] * len(sistema)\n",
        "\n",
        "  for i, moneda in enumerate(sistema):\n",
        "    solucion[i], cantidad = divmod(cantidad, moneda)\n",
        "\n",
        "  return solucion"
      ],
      "metadata": {
        "id": "JNrUd304uLza"
      },
      "execution_count": 246,
      "outputs": []
    },
    {
      "cell_type": "code",
      "source": [
        "cambio_monedas(54, [10,25,5,1])"
      ],
      "metadata": {
        "colab": {
          "base_uri": "https://localhost:8080/"
        },
        "id": "cRMrv2rmvjj5",
        "outputId": "6b95f299-91b3-4567-9d0c-d48c576bca7d"
      },
      "execution_count": 247,
      "outputs": [
        {
          "output_type": "execute_result",
          "data": {
            "text/plain": [
              "[2, 0, 0, 4]"
            ]
          },
          "metadata": {},
          "execution_count": 247
        }
      ]
    },
    {
      "cell_type": "markdown",
      "source": [
        "#Practica individual"
      ],
      "metadata": {
        "id": "PbFN6PQMyxVt"
      }
    },
    {
      "cell_type": "code",
      "source": [
        "import math\n",
        "\n",
        "def distancia_1D(a, b):\n",
        "  return abs(a - b)\n",
        "\n",
        "def distancia_2D(a, b):\n",
        "    return math.sqrt((a[0] - b[0])**2 + (a[1] - b[1])**2)"
      ],
      "metadata": {
        "id": "yrixobg9zZI_"
      },
      "execution_count": 248,
      "outputs": []
    },
    {
      "cell_type": "code",
      "source": [
        "def puntos_cercanos_1D(puntos):\n",
        "  distancia = -1\n",
        "  result = []\n",
        "  for a in puntos:\n",
        "    for b in puntos:\n",
        "      if a !=b and (distancia == -1 or distancia_1D(a,b) < distancia):\n",
        "        distancia = distancia_1D(a,b)\n",
        "        result = [a, b]\n",
        "  return result"
      ],
      "metadata": {
        "id": "b4o0VC87y0i1"
      },
      "execution_count": 249,
      "outputs": []
    },
    {
      "cell_type": "code",
      "source": [
        "puntos_1D = [3, 7, 15, 1, 10, 5, 11, 18]"
      ],
      "metadata": {
        "id": "3XttVWQlzxw4"
      },
      "execution_count": 250,
      "outputs": []
    },
    {
      "cell_type": "code",
      "source": [
        "puntos_cercanos_1D(puntos_1D)"
      ],
      "metadata": {
        "colab": {
          "base_uri": "https://localhost:8080/"
        },
        "id": "v_4LWHej0O8_",
        "outputId": "03e4b3bf-bea9-4226-ed36-546c1ba6e4f4"
      },
      "execution_count": 251,
      "outputs": [
        {
          "output_type": "execute_result",
          "data": {
            "text/plain": [
              "[10, 11]"
            ]
          },
          "metadata": {},
          "execution_count": 251
        }
      ]
    },
    {
      "cell_type": "code",
      "source": [
        "def puntos_cercanos_2D(puntos):\n",
        "  distancia = -1\n",
        "  result = []\n",
        "  for a in puntos:\n",
        "    for b in puntos:\n",
        "      if a != b and (distancia == -1 or distancia_2D(a,b) < distancia):\n",
        "        distancia = distancia_2D(a,b)\n",
        "        result = [a, b]\n",
        "  return result"
      ],
      "metadata": {
        "id": "SKORF7010Qf4"
      },
      "execution_count": 252,
      "outputs": []
    },
    {
      "cell_type": "code",
      "source": [
        "puntos_2D = [(2, 3), (4, 7), (9, 1), (5, 4), (3, 7), (8, 6), (7, 2), (1, 5)]"
      ],
      "metadata": {
        "id": "Bq09I6mQGzRa"
      },
      "execution_count": 253,
      "outputs": []
    },
    {
      "cell_type": "code",
      "source": [
        "puntos_cercanos_2D(puntos_2D)"
      ],
      "metadata": {
        "colab": {
          "base_uri": "https://localhost:8080/"
        },
        "id": "ZWg8VeoWGzwV",
        "outputId": "638a51c1-9607-4415-82fa-26edd1090437"
      },
      "execution_count": 254,
      "outputs": [
        {
          "output_type": "execute_result",
          "data": {
            "text/plain": [
              "[(4, 7), (3, 7)]"
            ]
          },
          "metadata": {},
          "execution_count": 254
        }
      ]
    },
    {
      "cell_type": "code",
      "source": [
        "def puntos_cercanos_2D(puntos):\n",
        "    distancia_minima = float('inf') # Infinito\n",
        "    result = []\n",
        "\n",
        "    for i in range(len(puntos)):\n",
        "        for j in range(i+1, len(puntos)):\n",
        "            dist_actual = distancia_2D(puntos[i], puntos[j])\n",
        "            if dist_actual < distancia_minima:\n",
        "                distancia_minima = dist_actual\n",
        "                result = [puntos[i], puntos[j]]\n",
        "\n",
        "    return result"
      ],
      "metadata": {
        "id": "rFqhRFE1HLh0"
      },
      "execution_count": 255,
      "outputs": []
    },
    {
      "cell_type": "code",
      "source": [
        "puntos_cercanos_2D(puntos_2D)"
      ],
      "metadata": {
        "colab": {
          "base_uri": "https://localhost:8080/"
        },
        "id": "Ol1XUuctHfCF",
        "outputId": "42df1bd3-5d88-4da9-a01f-8558faed0e45"
      },
      "execution_count": 256,
      "outputs": [
        {
          "output_type": "execute_result",
          "data": {
            "text/plain": [
              "[(4, 7), (3, 7)]"
            ]
          },
          "metadata": {},
          "execution_count": 256
        }
      ]
    },
    {
      "cell_type": "code",
      "source": [
        "%%timeit\n",
        "puntos_cercanos_2D(puntos_2D)"
      ],
      "metadata": {
        "colab": {
          "base_uri": "https://localhost:8080/"
        },
        "id": "To8mArmbIIUU",
        "outputId": "e69e029b-4fc6-49d1-d1d3-405182f91dc1"
      },
      "execution_count": 257,
      "outputs": [
        {
          "output_type": "stream",
          "name": "stdout",
          "text": [
            "28.4 µs ± 3.42 µs per loop (mean ± std. dev. of 7 runs, 10000 loops each)\n"
          ]
        }
      ]
    }
  ]
}