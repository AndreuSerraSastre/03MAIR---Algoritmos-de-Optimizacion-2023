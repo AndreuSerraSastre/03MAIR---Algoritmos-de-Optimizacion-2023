{
  "nbformat": 4,
  "nbformat_minor": 0,
  "metadata": {
    "colab": {
      "provenance": [],
      "include_colab_link": true
    },
    "kernelspec": {
      "name": "python3",
      "display_name": "Python 3"
    }
  },
  "cells": [
    {
      "cell_type": "markdown",
      "metadata": {
        "id": "view-in-github",
        "colab_type": "text"
      },
      "source": [
        "<a href=\"https://colab.research.google.com/github/AndreuSerraSastre/03MAIR---Algoritmos-de-Optimizacion-2023/blob/main/Trabajo_Practico_Andreu_Serra_Sastre.ipynb\" target=\"_parent\"><img src=\"https://colab.research.google.com/assets/colab-badge.svg\" alt=\"Open In Colab\"/></a>"
      ]
    },
    {
      "cell_type": "markdown",
      "metadata": {
        "id": "hVbXYX-RfPWh"
      },
      "source": [
        "# Algoritmos de optimización - Seminario<br>\n",
        "Nombre y Apellidos: Andreu Serra Sastre   <br>\n",
        "Url: https://github.com/AndreuSerraSastre/03MAIR---Algoritmos-de-Optimizacion-2023/blob/37c8089cd7d4e8a937a6f470628bb0fcca5b2458/Trabajo_Practico_Andreu_Serra_Sastre.ipynb<br>\n",
        "\n",
        "## Problema:\n",
        "> 1. Sesiones de doblaje <br>\n",
        "\n",
        "\n",
        "## Descripción del problema:\n",
        "\n",
        "Se precisa coordinar el doblaje de una película. Los actores del doblaje deben coincidir en las\n",
        "tomas en las que sus personajes aparecen juntos en las diferentes tomas. Los actores de\n",
        "doblaje cobran todos la misma cantidad por cada día que deben desplazarse hasta el estudio de\n",
        "grabación independientemente del número de tomas que se graben. No es posible grabar más\n",
        "de 6 tomas por día. El objetivo es planificar las sesiones por día de manera que el gasto por los\n",
        "servicios de los actores de doblaje sea el menor posible. Los datos son:\n",
        "\n",
        "**Número de actores**:  10 <br>\n",
        "**Número de tomas**  :  30 <br>\n",
        "\n",
        "- 1 indica que el actor participa en la toma\n",
        "- 0 en caso contrario\n",
        "\n",
        "(*) La respuesta es obligatoria\n",
        "\n",
        "\n",
        "\n",
        "\n",
        "\n"
      ]
    },
    {
      "cell_type": "markdown",
      "source": [
        "# Carga de datos\n",
        "\n",
        "En esta sección se cargan los datos directamente del documento https://docs.google.com/spreadsheets/d/1Ipn6IrbQP4ax8zOnivdBIw2lN0JISkJG4fXndYd27U0/edit?pli=1#gid=0"
      ],
      "metadata": {
        "id": "kYlaanIxcdX0"
      }
    },
    {
      "cell_type": "code",
      "source": [
        "import pandas as pd\n",
        "\n",
        "# URL del google sheets\n",
        "url = 'https://docs.google.com/spreadsheets/d/1Ipn6IrbQP4ax8zOnivdBIw2lN0JISkJG4fXndYd27U0/export?format=csv'\n",
        "\n",
        "# Cargamos los datos desde el csv\n",
        "data = pd.read_csv(url)\n",
        "\n",
        "# Obtenemos solo los datos necesarios\n",
        "useful_data = data.iloc[1:31, :-2]\n",
        "\n",
        "# Ponemos el nombre de las columnas\n",
        "actor_columns = [f'Actor {i+1}' for i in range(10)]\n",
        "useful_data.columns = ['Toma'] + actor_columns\n",
        "\n",
        "# Convertimos los datos a int\n",
        "useful_data[actor_columns] = useful_data[actor_columns].astype(int)\n",
        "\n",
        "useful_data"
      ],
      "metadata": {
        "colab": {
          "base_uri": "https://localhost:8080/",
          "height": 990
        },
        "id": "1Xbv_ga_ccIw",
        "outputId": "da6dfc0d-df4b-4035-a738-7b4e6c0a6af8"
      },
      "execution_count": null,
      "outputs": [
        {
          "output_type": "execute_result",
          "data": {
            "text/plain": [
              "   Toma  Actor 1  Actor 2  Actor 3  Actor 4  Actor 5  Actor 6  Actor 7  \\\n",
              "1     1        1        1        1        1        1        0        0   \n",
              "2     2        0        0        1        1        1        0        0   \n",
              "3     3        0        1        0        0        1        0        1   \n",
              "4     4        1        1        0        0        0        0        1   \n",
              "5     5        0        1        0        1        0        0        0   \n",
              "6     6        1        1        0        1        1        0        0   \n",
              "7     7        1        1        0        1        1        0        0   \n",
              "8     8        1        1        0        0        0        1        0   \n",
              "9     9        1        1        0        1        0        0        0   \n",
              "10   10        1        1        0        0        0        1        0   \n",
              "11   11        1        1        1        0        1        0        0   \n",
              "12   12        1        1        1        1        0        1        0   \n",
              "13   13        1        0        0        1        1        0        0   \n",
              "14   14        1        0        1        0        0        1        0   \n",
              "15   15        1        1        0        0        0        0        1   \n",
              "16   16        0        0        0        1        0        0        0   \n",
              "17   17        1        0        1        0        0        0        0   \n",
              "18   18        0        0        1        0        0        1        0   \n",
              "19   19        1        0        1        0        0        0        0   \n",
              "20   20        1        0        1        1        1        0        0   \n",
              "21   21        0        0        0        0        0        1        0   \n",
              "22   22        1        1        1        1        0        0        0   \n",
              "23   23        1        0        1        0        0        0        0   \n",
              "24   24        0        0        1        0        0        1        0   \n",
              "25   25        1        1        0        1        0        0        0   \n",
              "26   26        1        0        1        0        1        0        0   \n",
              "27   27        0        0        0        1        1        0        0   \n",
              "28   28        1        0        0        1        0        0        0   \n",
              "29   29        1        0        0        0        1        1        0   \n",
              "30   30        1        0        0        1        0        0        0   \n",
              "\n",
              "    Actor 8  Actor 9  Actor 10  \n",
              "1         0        0         0  \n",
              "2         0        0         0  \n",
              "3         0        0         0  \n",
              "4         1        0         0  \n",
              "5         1        0         0  \n",
              "6         0        0         0  \n",
              "7         0        0         0  \n",
              "8         0        0         0  \n",
              "9         0        0         0  \n",
              "10        0        1         0  \n",
              "11        1        0         0  \n",
              "12        0        0         0  \n",
              "13        0        0         0  \n",
              "14        0        0         0  \n",
              "15        0        0         0  \n",
              "16        0        0         1  \n",
              "17        0        0         0  \n",
              "18        0        0         0  \n",
              "19        0        0         0  \n",
              "20        0        0         0  \n",
              "21        1        0         0  \n",
              "22        0        0         0  \n",
              "23        0        0         0  \n",
              "24        0        0         0  \n",
              "25        0        0         1  \n",
              "26        0        1         0  \n",
              "27        0        0         0  \n",
              "28        0        0         0  \n",
              "29        0        0         0  \n",
              "30        0        0         0  "
            ],
            "text/html": [
              "\n",
              "\n",
              "  <div id=\"df-ef62c6ba-a8d6-43cb-bc9b-5785f3eee442\">\n",
              "    <div class=\"colab-df-container\">\n",
              "      <div>\n",
              "<style scoped>\n",
              "    .dataframe tbody tr th:only-of-type {\n",
              "        vertical-align: middle;\n",
              "    }\n",
              "\n",
              "    .dataframe tbody tr th {\n",
              "        vertical-align: top;\n",
              "    }\n",
              "\n",
              "    .dataframe thead th {\n",
              "        text-align: right;\n",
              "    }\n",
              "</style>\n",
              "<table border=\"1\" class=\"dataframe\">\n",
              "  <thead>\n",
              "    <tr style=\"text-align: right;\">\n",
              "      <th></th>\n",
              "      <th>Toma</th>\n",
              "      <th>Actor 1</th>\n",
              "      <th>Actor 2</th>\n",
              "      <th>Actor 3</th>\n",
              "      <th>Actor 4</th>\n",
              "      <th>Actor 5</th>\n",
              "      <th>Actor 6</th>\n",
              "      <th>Actor 7</th>\n",
              "      <th>Actor 8</th>\n",
              "      <th>Actor 9</th>\n",
              "      <th>Actor 10</th>\n",
              "    </tr>\n",
              "  </thead>\n",
              "  <tbody>\n",
              "    <tr>\n",
              "      <th>1</th>\n",
              "      <td>1</td>\n",
              "      <td>1</td>\n",
              "      <td>1</td>\n",
              "      <td>1</td>\n",
              "      <td>1</td>\n",
              "      <td>1</td>\n",
              "      <td>0</td>\n",
              "      <td>0</td>\n",
              "      <td>0</td>\n",
              "      <td>0</td>\n",
              "      <td>0</td>\n",
              "    </tr>\n",
              "    <tr>\n",
              "      <th>2</th>\n",
              "      <td>2</td>\n",
              "      <td>0</td>\n",
              "      <td>0</td>\n",
              "      <td>1</td>\n",
              "      <td>1</td>\n",
              "      <td>1</td>\n",
              "      <td>0</td>\n",
              "      <td>0</td>\n",
              "      <td>0</td>\n",
              "      <td>0</td>\n",
              "      <td>0</td>\n",
              "    </tr>\n",
              "    <tr>\n",
              "      <th>3</th>\n",
              "      <td>3</td>\n",
              "      <td>0</td>\n",
              "      <td>1</td>\n",
              "      <td>0</td>\n",
              "      <td>0</td>\n",
              "      <td>1</td>\n",
              "      <td>0</td>\n",
              "      <td>1</td>\n",
              "      <td>0</td>\n",
              "      <td>0</td>\n",
              "      <td>0</td>\n",
              "    </tr>\n",
              "    <tr>\n",
              "      <th>4</th>\n",
              "      <td>4</td>\n",
              "      <td>1</td>\n",
              "      <td>1</td>\n",
              "      <td>0</td>\n",
              "      <td>0</td>\n",
              "      <td>0</td>\n",
              "      <td>0</td>\n",
              "      <td>1</td>\n",
              "      <td>1</td>\n",
              "      <td>0</td>\n",
              "      <td>0</td>\n",
              "    </tr>\n",
              "    <tr>\n",
              "      <th>5</th>\n",
              "      <td>5</td>\n",
              "      <td>0</td>\n",
              "      <td>1</td>\n",
              "      <td>0</td>\n",
              "      <td>1</td>\n",
              "      <td>0</td>\n",
              "      <td>0</td>\n",
              "      <td>0</td>\n",
              "      <td>1</td>\n",
              "      <td>0</td>\n",
              "      <td>0</td>\n",
              "    </tr>\n",
              "    <tr>\n",
              "      <th>6</th>\n",
              "      <td>6</td>\n",
              "      <td>1</td>\n",
              "      <td>1</td>\n",
              "      <td>0</td>\n",
              "      <td>1</td>\n",
              "      <td>1</td>\n",
              "      <td>0</td>\n",
              "      <td>0</td>\n",
              "      <td>0</td>\n",
              "      <td>0</td>\n",
              "      <td>0</td>\n",
              "    </tr>\n",
              "    <tr>\n",
              "      <th>7</th>\n",
              "      <td>7</td>\n",
              "      <td>1</td>\n",
              "      <td>1</td>\n",
              "      <td>0</td>\n",
              "      <td>1</td>\n",
              "      <td>1</td>\n",
              "      <td>0</td>\n",
              "      <td>0</td>\n",
              "      <td>0</td>\n",
              "      <td>0</td>\n",
              "      <td>0</td>\n",
              "    </tr>\n",
              "    <tr>\n",
              "      <th>8</th>\n",
              "      <td>8</td>\n",
              "      <td>1</td>\n",
              "      <td>1</td>\n",
              "      <td>0</td>\n",
              "      <td>0</td>\n",
              "      <td>0</td>\n",
              "      <td>1</td>\n",
              "      <td>0</td>\n",
              "      <td>0</td>\n",
              "      <td>0</td>\n",
              "      <td>0</td>\n",
              "    </tr>\n",
              "    <tr>\n",
              "      <th>9</th>\n",
              "      <td>9</td>\n",
              "      <td>1</td>\n",
              "      <td>1</td>\n",
              "      <td>0</td>\n",
              "      <td>1</td>\n",
              "      <td>0</td>\n",
              "      <td>0</td>\n",
              "      <td>0</td>\n",
              "      <td>0</td>\n",
              "      <td>0</td>\n",
              "      <td>0</td>\n",
              "    </tr>\n",
              "    <tr>\n",
              "      <th>10</th>\n",
              "      <td>10</td>\n",
              "      <td>1</td>\n",
              "      <td>1</td>\n",
              "      <td>0</td>\n",
              "      <td>0</td>\n",
              "      <td>0</td>\n",
              "      <td>1</td>\n",
              "      <td>0</td>\n",
              "      <td>0</td>\n",
              "      <td>1</td>\n",
              "      <td>0</td>\n",
              "    </tr>\n",
              "    <tr>\n",
              "      <th>11</th>\n",
              "      <td>11</td>\n",
              "      <td>1</td>\n",
              "      <td>1</td>\n",
              "      <td>1</td>\n",
              "      <td>0</td>\n",
              "      <td>1</td>\n",
              "      <td>0</td>\n",
              "      <td>0</td>\n",
              "      <td>1</td>\n",
              "      <td>0</td>\n",
              "      <td>0</td>\n",
              "    </tr>\n",
              "    <tr>\n",
              "      <th>12</th>\n",
              "      <td>12</td>\n",
              "      <td>1</td>\n",
              "      <td>1</td>\n",
              "      <td>1</td>\n",
              "      <td>1</td>\n",
              "      <td>0</td>\n",
              "      <td>1</td>\n",
              "      <td>0</td>\n",
              "      <td>0</td>\n",
              "      <td>0</td>\n",
              "      <td>0</td>\n",
              "    </tr>\n",
              "    <tr>\n",
              "      <th>13</th>\n",
              "      <td>13</td>\n",
              "      <td>1</td>\n",
              "      <td>0</td>\n",
              "      <td>0</td>\n",
              "      <td>1</td>\n",
              "      <td>1</td>\n",
              "      <td>0</td>\n",
              "      <td>0</td>\n",
              "      <td>0</td>\n",
              "      <td>0</td>\n",
              "      <td>0</td>\n",
              "    </tr>\n",
              "    <tr>\n",
              "      <th>14</th>\n",
              "      <td>14</td>\n",
              "      <td>1</td>\n",
              "      <td>0</td>\n",
              "      <td>1</td>\n",
              "      <td>0</td>\n",
              "      <td>0</td>\n",
              "      <td>1</td>\n",
              "      <td>0</td>\n",
              "      <td>0</td>\n",
              "      <td>0</td>\n",
              "      <td>0</td>\n",
              "    </tr>\n",
              "    <tr>\n",
              "      <th>15</th>\n",
              "      <td>15</td>\n",
              "      <td>1</td>\n",
              "      <td>1</td>\n",
              "      <td>0</td>\n",
              "      <td>0</td>\n",
              "      <td>0</td>\n",
              "      <td>0</td>\n",
              "      <td>1</td>\n",
              "      <td>0</td>\n",
              "      <td>0</td>\n",
              "      <td>0</td>\n",
              "    </tr>\n",
              "    <tr>\n",
              "      <th>16</th>\n",
              "      <td>16</td>\n",
              "      <td>0</td>\n",
              "      <td>0</td>\n",
              "      <td>0</td>\n",
              "      <td>1</td>\n",
              "      <td>0</td>\n",
              "      <td>0</td>\n",
              "      <td>0</td>\n",
              "      <td>0</td>\n",
              "      <td>0</td>\n",
              "      <td>1</td>\n",
              "    </tr>\n",
              "    <tr>\n",
              "      <th>17</th>\n",
              "      <td>17</td>\n",
              "      <td>1</td>\n",
              "      <td>0</td>\n",
              "      <td>1</td>\n",
              "      <td>0</td>\n",
              "      <td>0</td>\n",
              "      <td>0</td>\n",
              "      <td>0</td>\n",
              "      <td>0</td>\n",
              "      <td>0</td>\n",
              "      <td>0</td>\n",
              "    </tr>\n",
              "    <tr>\n",
              "      <th>18</th>\n",
              "      <td>18</td>\n",
              "      <td>0</td>\n",
              "      <td>0</td>\n",
              "      <td>1</td>\n",
              "      <td>0</td>\n",
              "      <td>0</td>\n",
              "      <td>1</td>\n",
              "      <td>0</td>\n",
              "      <td>0</td>\n",
              "      <td>0</td>\n",
              "      <td>0</td>\n",
              "    </tr>\n",
              "    <tr>\n",
              "      <th>19</th>\n",
              "      <td>19</td>\n",
              "      <td>1</td>\n",
              "      <td>0</td>\n",
              "      <td>1</td>\n",
              "      <td>0</td>\n",
              "      <td>0</td>\n",
              "      <td>0</td>\n",
              "      <td>0</td>\n",
              "      <td>0</td>\n",
              "      <td>0</td>\n",
              "      <td>0</td>\n",
              "    </tr>\n",
              "    <tr>\n",
              "      <th>20</th>\n",
              "      <td>20</td>\n",
              "      <td>1</td>\n",
              "      <td>0</td>\n",
              "      <td>1</td>\n",
              "      <td>1</td>\n",
              "      <td>1</td>\n",
              "      <td>0</td>\n",
              "      <td>0</td>\n",
              "      <td>0</td>\n",
              "      <td>0</td>\n",
              "      <td>0</td>\n",
              "    </tr>\n",
              "    <tr>\n",
              "      <th>21</th>\n",
              "      <td>21</td>\n",
              "      <td>0</td>\n",
              "      <td>0</td>\n",
              "      <td>0</td>\n",
              "      <td>0</td>\n",
              "      <td>0</td>\n",
              "      <td>1</td>\n",
              "      <td>0</td>\n",
              "      <td>1</td>\n",
              "      <td>0</td>\n",
              "      <td>0</td>\n",
              "    </tr>\n",
              "    <tr>\n",
              "      <th>22</th>\n",
              "      <td>22</td>\n",
              "      <td>1</td>\n",
              "      <td>1</td>\n",
              "      <td>1</td>\n",
              "      <td>1</td>\n",
              "      <td>0</td>\n",
              "      <td>0</td>\n",
              "      <td>0</td>\n",
              "      <td>0</td>\n",
              "      <td>0</td>\n",
              "      <td>0</td>\n",
              "    </tr>\n",
              "    <tr>\n",
              "      <th>23</th>\n",
              "      <td>23</td>\n",
              "      <td>1</td>\n",
              "      <td>0</td>\n",
              "      <td>1</td>\n",
              "      <td>0</td>\n",
              "      <td>0</td>\n",
              "      <td>0</td>\n",
              "      <td>0</td>\n",
              "      <td>0</td>\n",
              "      <td>0</td>\n",
              "      <td>0</td>\n",
              "    </tr>\n",
              "    <tr>\n",
              "      <th>24</th>\n",
              "      <td>24</td>\n",
              "      <td>0</td>\n",
              "      <td>0</td>\n",
              "      <td>1</td>\n",
              "      <td>0</td>\n",
              "      <td>0</td>\n",
              "      <td>1</td>\n",
              "      <td>0</td>\n",
              "      <td>0</td>\n",
              "      <td>0</td>\n",
              "      <td>0</td>\n",
              "    </tr>\n",
              "    <tr>\n",
              "      <th>25</th>\n",
              "      <td>25</td>\n",
              "      <td>1</td>\n",
              "      <td>1</td>\n",
              "      <td>0</td>\n",
              "      <td>1</td>\n",
              "      <td>0</td>\n",
              "      <td>0</td>\n",
              "      <td>0</td>\n",
              "      <td>0</td>\n",
              "      <td>0</td>\n",
              "      <td>1</td>\n",
              "    </tr>\n",
              "    <tr>\n",
              "      <th>26</th>\n",
              "      <td>26</td>\n",
              "      <td>1</td>\n",
              "      <td>0</td>\n",
              "      <td>1</td>\n",
              "      <td>0</td>\n",
              "      <td>1</td>\n",
              "      <td>0</td>\n",
              "      <td>0</td>\n",
              "      <td>0</td>\n",
              "      <td>1</td>\n",
              "      <td>0</td>\n",
              "    </tr>\n",
              "    <tr>\n",
              "      <th>27</th>\n",
              "      <td>27</td>\n",
              "      <td>0</td>\n",
              "      <td>0</td>\n",
              "      <td>0</td>\n",
              "      <td>1</td>\n",
              "      <td>1</td>\n",
              "      <td>0</td>\n",
              "      <td>0</td>\n",
              "      <td>0</td>\n",
              "      <td>0</td>\n",
              "      <td>0</td>\n",
              "    </tr>\n",
              "    <tr>\n",
              "      <th>28</th>\n",
              "      <td>28</td>\n",
              "      <td>1</td>\n",
              "      <td>0</td>\n",
              "      <td>0</td>\n",
              "      <td>1</td>\n",
              "      <td>0</td>\n",
              "      <td>0</td>\n",
              "      <td>0</td>\n",
              "      <td>0</td>\n",
              "      <td>0</td>\n",
              "      <td>0</td>\n",
              "    </tr>\n",
              "    <tr>\n",
              "      <th>29</th>\n",
              "      <td>29</td>\n",
              "      <td>1</td>\n",
              "      <td>0</td>\n",
              "      <td>0</td>\n",
              "      <td>0</td>\n",
              "      <td>1</td>\n",
              "      <td>1</td>\n",
              "      <td>0</td>\n",
              "      <td>0</td>\n",
              "      <td>0</td>\n",
              "      <td>0</td>\n",
              "    </tr>\n",
              "    <tr>\n",
              "      <th>30</th>\n",
              "      <td>30</td>\n",
              "      <td>1</td>\n",
              "      <td>0</td>\n",
              "      <td>0</td>\n",
              "      <td>1</td>\n",
              "      <td>0</td>\n",
              "      <td>0</td>\n",
              "      <td>0</td>\n",
              "      <td>0</td>\n",
              "      <td>0</td>\n",
              "      <td>0</td>\n",
              "    </tr>\n",
              "  </tbody>\n",
              "</table>\n",
              "</div>\n",
              "      <button class=\"colab-df-convert\" onclick=\"convertToInteractive('df-ef62c6ba-a8d6-43cb-bc9b-5785f3eee442')\"\n",
              "              title=\"Convert this dataframe to an interactive table.\"\n",
              "              style=\"display:none;\">\n",
              "\n",
              "  <svg xmlns=\"http://www.w3.org/2000/svg\" height=\"24px\"viewBox=\"0 0 24 24\"\n",
              "       width=\"24px\">\n",
              "    <path d=\"M0 0h24v24H0V0z\" fill=\"none\"/>\n",
              "    <path d=\"M18.56 5.44l.94 2.06.94-2.06 2.06-.94-2.06-.94-.94-2.06-.94 2.06-2.06.94zm-11 1L8.5 8.5l.94-2.06 2.06-.94-2.06-.94L8.5 2.5l-.94 2.06-2.06.94zm10 10l.94 2.06.94-2.06 2.06-.94-2.06-.94-.94-2.06-.94 2.06-2.06.94z\"/><path d=\"M17.41 7.96l-1.37-1.37c-.4-.4-.92-.59-1.43-.59-.52 0-1.04.2-1.43.59L10.3 9.45l-7.72 7.72c-.78.78-.78 2.05 0 2.83L4 21.41c.39.39.9.59 1.41.59.51 0 1.02-.2 1.41-.59l7.78-7.78 2.81-2.81c.8-.78.8-2.07 0-2.86zM5.41 20L4 18.59l7.72-7.72 1.47 1.35L5.41 20z\"/>\n",
              "  </svg>\n",
              "      </button>\n",
              "\n",
              "\n",
              "\n",
              "    <div id=\"df-d2650b4f-cd12-4a92-be6f-9f6a25c7c916\">\n",
              "      <button class=\"colab-df-quickchart\" onclick=\"quickchart('df-d2650b4f-cd12-4a92-be6f-9f6a25c7c916')\"\n",
              "              title=\"Suggest charts.\"\n",
              "              style=\"display:none;\">\n",
              "\n",
              "<svg xmlns=\"http://www.w3.org/2000/svg\" height=\"24px\"viewBox=\"0 0 24 24\"\n",
              "     width=\"24px\">\n",
              "    <g>\n",
              "        <path d=\"M19 3H5c-1.1 0-2 .9-2 2v14c0 1.1.9 2 2 2h14c1.1 0 2-.9 2-2V5c0-1.1-.9-2-2-2zM9 17H7v-7h2v7zm4 0h-2V7h2v10zm4 0h-2v-4h2v4z\"/>\n",
              "    </g>\n",
              "</svg>\n",
              "      </button>\n",
              "    </div>\n",
              "\n",
              "<style>\n",
              "  .colab-df-quickchart {\n",
              "    background-color: #E8F0FE;\n",
              "    border: none;\n",
              "    border-radius: 50%;\n",
              "    cursor: pointer;\n",
              "    display: none;\n",
              "    fill: #1967D2;\n",
              "    height: 32px;\n",
              "    padding: 0 0 0 0;\n",
              "    width: 32px;\n",
              "  }\n",
              "\n",
              "  .colab-df-quickchart:hover {\n",
              "    background-color: #E2EBFA;\n",
              "    box-shadow: 0px 1px 2px rgba(60, 64, 67, 0.3), 0px 1px 3px 1px rgba(60, 64, 67, 0.15);\n",
              "    fill: #174EA6;\n",
              "  }\n",
              "\n",
              "  [theme=dark] .colab-df-quickchart {\n",
              "    background-color: #3B4455;\n",
              "    fill: #D2E3FC;\n",
              "  }\n",
              "\n",
              "  [theme=dark] .colab-df-quickchart:hover {\n",
              "    background-color: #434B5C;\n",
              "    box-shadow: 0px 1px 3px 1px rgba(0, 0, 0, 0.15);\n",
              "    filter: drop-shadow(0px 1px 2px rgba(0, 0, 0, 0.3));\n",
              "    fill: #FFFFFF;\n",
              "  }\n",
              "</style>\n",
              "\n",
              "    <script>\n",
              "      async function quickchart(key) {\n",
              "        const containerElement = document.querySelector('#' + key);\n",
              "        const charts = await google.colab.kernel.invokeFunction(\n",
              "            'suggestCharts', [key], {});\n",
              "      }\n",
              "    </script>\n",
              "\n",
              "      <script>\n",
              "\n",
              "function displayQuickchartButton(domScope) {\n",
              "  let quickchartButtonEl =\n",
              "    domScope.querySelector('#df-d2650b4f-cd12-4a92-be6f-9f6a25c7c916 button.colab-df-quickchart');\n",
              "  quickchartButtonEl.style.display =\n",
              "    google.colab.kernel.accessAllowed ? 'block' : 'none';\n",
              "}\n",
              "\n",
              "        displayQuickchartButton(document);\n",
              "      </script>\n",
              "      <style>\n",
              "    .colab-df-container {\n",
              "      display:flex;\n",
              "      flex-wrap:wrap;\n",
              "      gap: 12px;\n",
              "    }\n",
              "\n",
              "    .colab-df-convert {\n",
              "      background-color: #E8F0FE;\n",
              "      border: none;\n",
              "      border-radius: 50%;\n",
              "      cursor: pointer;\n",
              "      display: none;\n",
              "      fill: #1967D2;\n",
              "      height: 32px;\n",
              "      padding: 0 0 0 0;\n",
              "      width: 32px;\n",
              "    }\n",
              "\n",
              "    .colab-df-convert:hover {\n",
              "      background-color: #E2EBFA;\n",
              "      box-shadow: 0px 1px 2px rgba(60, 64, 67, 0.3), 0px 1px 3px 1px rgba(60, 64, 67, 0.15);\n",
              "      fill: #174EA6;\n",
              "    }\n",
              "\n",
              "    [theme=dark] .colab-df-convert {\n",
              "      background-color: #3B4455;\n",
              "      fill: #D2E3FC;\n",
              "    }\n",
              "\n",
              "    [theme=dark] .colab-df-convert:hover {\n",
              "      background-color: #434B5C;\n",
              "      box-shadow: 0px 1px 3px 1px rgba(0, 0, 0, 0.15);\n",
              "      filter: drop-shadow(0px 1px 2px rgba(0, 0, 0, 0.3));\n",
              "      fill: #FFFFFF;\n",
              "    }\n",
              "  </style>\n",
              "\n",
              "      <script>\n",
              "        const buttonEl =\n",
              "          document.querySelector('#df-ef62c6ba-a8d6-43cb-bc9b-5785f3eee442 button.colab-df-convert');\n",
              "        buttonEl.style.display =\n",
              "          google.colab.kernel.accessAllowed ? 'block' : 'none';\n",
              "\n",
              "        async function convertToInteractive(key) {\n",
              "          const element = document.querySelector('#df-ef62c6ba-a8d6-43cb-bc9b-5785f3eee442');\n",
              "          const dataTable =\n",
              "            await google.colab.kernel.invokeFunction('convertToInteractive',\n",
              "                                                     [key], {});\n",
              "          if (!dataTable) return;\n",
              "\n",
              "          const docLinkHtml = 'Like what you see? Visit the ' +\n",
              "            '<a target=\"_blank\" href=https://colab.research.google.com/notebooks/data_table.ipynb>data table notebook</a>'\n",
              "            + ' to learn more about interactive tables.';\n",
              "          element.innerHTML = '';\n",
              "          dataTable['output_type'] = 'display_data';\n",
              "          await google.colab.output.renderOutput(dataTable, element);\n",
              "          const docLink = document.createElement('div');\n",
              "          docLink.innerHTML = docLinkHtml;\n",
              "          element.appendChild(docLink);\n",
              "        }\n",
              "      </script>\n",
              "    </div>\n",
              "  </div>\n"
            ]
          },
          "metadata": {},
          "execution_count": 31
        }
      ]
    },
    {
      "cell_type": "markdown",
      "source": [
        "## ¿Cuántas posibilidades hay sin tener en cuenta las restricciones?\n",
        "\n",
        "> Si no hay restricciones, significa que las posibilidades son, desde grabar todo en un día, a grabar una toma cada día. Como no tenemos las restricciones de grabar como máximo 6 tomas por día ni que los actores deban estar, se trata de calcular estas posibilidades, en este caso $30!$.\n",
        "\n",
        "## ¿Cuántas posibilidades hay teniendo en cuenta todas las restricciones?\n",
        "\n",
        "> Son 30 tomas, y se pueden grabar hasta 6 tomas, es decir, 5 días, 5!. A demás dentro de cada día debemos tener en cuenta las 6 tomas, es decir, 6!. Así que sería $6!^{5}*5!$"
      ],
      "metadata": {
        "id": "jP9xCcOFsMnc"
      }
    },
    {
      "cell_type": "code",
      "source": [
        "from math import comb\n",
        "\n",
        "# Según la fórmula de las combinaciones:\n",
        "def partitions(n, k):\n",
        "    return comb(n-1, k-1)\n",
        "\n",
        "# El número de formas de dividir 30 elementos en grupos de 6\n",
        "total_ways = sum(partitions(30, i) for i in range(1, 7))\n",
        "\n",
        "total_ways"
      ],
      "metadata": {
        "id": "e1UEP0VpuOAj",
        "colab": {
          "base_uri": "https://localhost:8080/"
        },
        "outputId": "667b153b-b958-48fb-9d26-52ed8280a652"
      },
      "execution_count": null,
      "outputs": [
        {
          "output_type": "execute_result",
          "data": {
            "text/plain": [
              "146596"
            ]
          },
          "metadata": {},
          "execution_count": 32
        }
      ]
    },
    {
      "cell_type": "markdown",
      "source": [
        "## ¿Cual es la estructura de datos que mejor se adapta al problema?\n",
        "\n",
        "> Para realizar este problema he elegido una lista de listas donde cada lista interna representa una toma que contiene unos y ceros indicando si el actor está o no.\n"
      ],
      "metadata": {
        "id": "r4Bf5Qwgyyrv"
      }
    },
    {
      "cell_type": "code",
      "source": [
        "import numpy as np\n",
        "# Modificamos los datos para crear la estructura de datos que nos interesa\n",
        "\n",
        "# Elimina la columna no deseada\n",
        "useful_data = useful_data.drop(columns=['Toma'])\n",
        "\n",
        "# Convierte el DataFrame a una lista de listas\n",
        "tomas = np.array(useful_data.values.tolist())\n",
        "\n",
        "display(tomas)"
      ],
      "metadata": {
        "id": "i9Cv2k3QIVvW",
        "colab": {
          "base_uri": "https://localhost:8080/",
          "height": 538
        },
        "outputId": "5bf75ab5-2e81-4a58-aa92-1f59d5f3b8ca"
      },
      "execution_count": null,
      "outputs": [
        {
          "output_type": "display_data",
          "data": {
            "text/plain": [
              "array([[1, 1, 1, 1, 1, 0, 0, 0, 0, 0],\n",
              "       [0, 0, 1, 1, 1, 0, 0, 0, 0, 0],\n",
              "       [0, 1, 0, 0, 1, 0, 1, 0, 0, 0],\n",
              "       [1, 1, 0, 0, 0, 0, 1, 1, 0, 0],\n",
              "       [0, 1, 0, 1, 0, 0, 0, 1, 0, 0],\n",
              "       [1, 1, 0, 1, 1, 0, 0, 0, 0, 0],\n",
              "       [1, 1, 0, 1, 1, 0, 0, 0, 0, 0],\n",
              "       [1, 1, 0, 0, 0, 1, 0, 0, 0, 0],\n",
              "       [1, 1, 0, 1, 0, 0, 0, 0, 0, 0],\n",
              "       [1, 1, 0, 0, 0, 1, 0, 0, 1, 0],\n",
              "       [1, 1, 1, 0, 1, 0, 0, 1, 0, 0],\n",
              "       [1, 1, 1, 1, 0, 1, 0, 0, 0, 0],\n",
              "       [1, 0, 0, 1, 1, 0, 0, 0, 0, 0],\n",
              "       [1, 0, 1, 0, 0, 1, 0, 0, 0, 0],\n",
              "       [1, 1, 0, 0, 0, 0, 1, 0, 0, 0],\n",
              "       [0, 0, 0, 1, 0, 0, 0, 0, 0, 1],\n",
              "       [1, 0, 1, 0, 0, 0, 0, 0, 0, 0],\n",
              "       [0, 0, 1, 0, 0, 1, 0, 0, 0, 0],\n",
              "       [1, 0, 1, 0, 0, 0, 0, 0, 0, 0],\n",
              "       [1, 0, 1, 1, 1, 0, 0, 0, 0, 0],\n",
              "       [0, 0, 0, 0, 0, 1, 0, 1, 0, 0],\n",
              "       [1, 1, 1, 1, 0, 0, 0, 0, 0, 0],\n",
              "       [1, 0, 1, 0, 0, 0, 0, 0, 0, 0],\n",
              "       [0, 0, 1, 0, 0, 1, 0, 0, 0, 0],\n",
              "       [1, 1, 0, 1, 0, 0, 0, 0, 0, 1],\n",
              "       [1, 0, 1, 0, 1, 0, 0, 0, 1, 0],\n",
              "       [0, 0, 0, 1, 1, 0, 0, 0, 0, 0],\n",
              "       [1, 0, 0, 1, 0, 0, 0, 0, 0, 0],\n",
              "       [1, 0, 0, 0, 1, 1, 0, 0, 0, 0],\n",
              "       [1, 0, 0, 1, 0, 0, 0, 0, 0, 0]])"
            ]
          },
          "metadata": {}
        }
      ]
    },
    {
      "cell_type": "markdown",
      "source": [
        "## ¿Cual es la función objetivo?\n",
        "\n",
        "La función objetivo es la suma total de los costos de contratar a los actores para cada día de grabación. Como cada actor cobrá lo mismo, y cobra por día, no por toma, el costo total es la suma de días que ha trabajado un actor, y luego sumamos esto por todos los actores."
      ],
      "metadata": {
        "id": "3Xmzm7BLzsNL"
      }
    },
    {
      "cell_type": "code",
      "source": [
        "def calcular_costo(dias, tomas_actores):\n",
        "    costo_total = 0\n",
        "    for dia in dias:\n",
        "        actores_necesarios = np.any(tomas_actores[dia, :], axis=0)\n",
        "        costo_total += np.sum(actores_necesarios)\n",
        "    return costo_total"
      ],
      "metadata": {
        "id": "pdHTAB2P1LPC"
      },
      "execution_count": null,
      "outputs": []
    },
    {
      "cell_type": "markdown",
      "source": [
        "## ¿Es un problema de maximización o minimización?\n",
        "\n",
        "> Claramente se trata de un problema de minimización donde queremos minimizar la cantidad de días en que cada actor tiene que trabajar.\n",
        "\n"
      ],
      "metadata": {
        "id": "FP-yLGO21XGR"
      }
    },
    {
      "cell_type": "markdown",
      "metadata": {
        "id": "rlnTYgY1j6I2"
      },
      "source": [
        "Diseña un algoritmo para resolver el problema por fuerza bruta\n"
      ]
    },
    {
      "cell_type": "code",
      "source": [
        "!pip install tqdm"
      ],
      "metadata": {
        "colab": {
          "base_uri": "https://localhost:8080/"
        },
        "id": "d-8G_xbPoZTi",
        "outputId": "bad96330-24c4-49ac-ae27-2278ff70291f"
      },
      "execution_count": null,
      "outputs": [
        {
          "output_type": "stream",
          "name": "stdout",
          "text": [
            "Requirement already satisfied: tqdm in /usr/local/lib/python3.10/dist-packages (4.65.0)\n"
          ]
        }
      ]
    },
    {
      "cell_type": "code",
      "source": [
        "import numpy as np\n",
        "from itertools import combinations, permutations\n",
        "from tqdm import tqdm\n",
        "\n",
        "def fuerza_bruta(tomas_actores, max_tomas):\n",
        "    num_tomas = tomas_actores.shape[0]\n",
        "    num_dias = num_tomas // max_tomas\n",
        "\n",
        "    costo_minimo = [float('inf')]\n",
        "    mejor_combinacion = None\n",
        "\n",
        "    # generamos todas las posibles permutaciones de los días\n",
        "    permutations_list = list(permutations(list(combinations(range(num_tomas), max_tomas)), num_dias))\n",
        "\n",
        "    # envolvemos el iterable en un tqdm para tener una barra de progreso\n",
        "    for dias in tqdm(permutations_list):\n",
        "        # Miramos si la permutación es única\n",
        "        tomas_uniques = {toma for dia in dias for toma in dia}\n",
        "\n",
        "        if len(tomas_uniques) == num_tomas:\n",
        "            costo = calcular_costo(dias, tomas_actores)\n",
        "\n",
        "            if costo < costo_minimo[0]:\n",
        "                costo_minimo[0] = costo\n",
        "                mejor_combinacion = dias\n",
        "\n",
        "    return mejor_combinacion, costo_minimo[0]"
      ],
      "metadata": {
        "id": "NRAybCo6PnWi"
      },
      "execution_count": null,
      "outputs": []
    },
    {
      "cell_type": "markdown",
      "metadata": {
        "id": "tgrnsC2nkFa8"
      },
      "source": [
        "Calcula la complejidad del algoritmo por fuerza bruta"
      ]
    },
    {
      "cell_type": "markdown",
      "source": [
        "La complejidad de este algoritmo es de O(n!) porque recorre todas las permutaciones"
      ],
      "metadata": {
        "id": "zJ65KZA0UiEk"
      }
    },
    {
      "cell_type": "markdown",
      "metadata": {
        "id": "txbrmLmskReM"
      },
      "source": [
        "(*)Diseña un algoritmo que mejore la complejidad del algortimo por fuerza bruta. Argumenta porque crees que mejora el algoritmo por fuerza bruta"
      ]
    },
    {
      "cell_type": "code",
      "metadata": {
        "id": "m1eyM21Vkabg"
      },
      "source": [
        "import numpy as np\n",
        "from itertools import combinations\n",
        "\n",
        "def backtracking(tomas_actores, dias, costo_minimo, mejor_combinacion, max_tomas):\n",
        "    # Si hemos asignado una toma a todos los días\n",
        "    if len(dias) == tomas_actores.shape[0] // max_tomas:\n",
        "        costo = calcular_costo(dias, tomas_actores)\n",
        "        if costo < costo_minimo[0]:\n",
        "            costo_minimo[0] = costo\n",
        "            mejor_combinacion[:] = dias\n",
        "        return\n",
        "\n",
        "    for comb in combinations(set(range(tomas_actores.shape[0])) - set(sum(dias, ())), max_tomas):\n",
        "        # Si la combinación actual no supera el costo mínimo, continuar con la siguiente toma\n",
        "        if calcular_costo(dias + [comb], tomas_actores) < costo_minimo[0]:\n",
        "            backtracking(tomas_actores, dias + [comb], costo_minimo, mejor_combinacion, max_tomas)\n",
        "\n",
        "def optimizar_backtraking(tomas_actores, max_tomas):\n",
        "    costo_minimo = [float('inf')]\n",
        "    mejor_combinacion = []\n",
        "    backtracking(tomas_actores, [], costo_minimo, mejor_combinacion, max_tomas)\n",
        "    return mejor_combinacion, costo_minimo[0]"
      ],
      "execution_count": null,
      "outputs": []
    },
    {
      "cell_type": "markdown",
      "source": [
        "Este algoritmo mejora enormemente el algoritmo anterior ya que una vez encuentra una serie de permutaciones que no mejoran, deja de probarlas, saltándose grandes numeros de datos"
      ],
      "metadata": {
        "id": "3Ihd6dH1MJ1X"
      }
    },
    {
      "cell_type": "markdown",
      "metadata": {
        "id": "eGDB4K6uk1iN"
      },
      "source": [
        "(*)Calcula la complejidad del algoritmo"
      ]
    },
    {
      "cell_type": "markdown",
      "source": [
        "En el peor de los casos sigue siendo O(n!), a pesar de que podemos recortar algunas ramas, a pesar de que puede llegar a recortar muchas ramas, voy a seguir investigando, esta vez, un algoritmo genético"
      ],
      "metadata": {
        "id": "bnlhabqodghV"
      }
    },
    {
      "cell_type": "code",
      "metadata": {
        "id": "nREzhkStlCq8"
      },
      "source": [
        "import numpy as np\n",
        "from random import randint, shuffle\n",
        "from operator import attrgetter\n",
        "\n",
        "class Individuo:\n",
        "    def __init__(self, tomas_actores, max_tomas_dia, chromosome=None):\n",
        "        self.tomas_actores = tomas_actores\n",
        "        self.max_tomas_dia = max_tomas_dia\n",
        "        self.num_tomas = tomas_actores.shape[0]\n",
        "        self.chromosome = chromosome if chromosome else self._crear_cromosoma()\n",
        "        self.fitness = self._calcular_fitness()\n",
        "\n",
        "    def _crear_cromosoma(self):\n",
        "        chromosome = list(range(self.num_tomas))\n",
        "        shuffle(chromosome)\n",
        "        return chromosome\n",
        "\n",
        "    def _calcular_fitness(self):\n",
        "        costo_total = 0\n",
        "        for i in range(0, len(self.chromosome), self.max_tomas_dia):\n",
        "            dias = self.chromosome[i:i+self.max_tomas_dia]\n",
        "            actores_necesarios = np.any(self.tomas_actores[dias, :], axis=0)\n",
        "            costo_total += np.sum(actores_necesarios)\n",
        "        return -costo_total  # Maximizamos el fitness\n",
        "\n",
        "    def crossover(self, other):\n",
        "        cut = randint(0, self.num_tomas)\n",
        "        child_chromosome = self.chromosome[:cut] + [gene for gene in other.chromosome if gene not in self.chromosome[:cut]]\n",
        "        return Individuo(self.tomas_actores, self.max_tomas_dia, child_chromosome)\n",
        "\n",
        "    def mutate(self):\n",
        "        i, j = randint(0, self.num_tomas-1), randint(0, self.num_tomas-1)\n",
        "        self.chromosome[i], self.chromosome[j] = self.chromosome[j], self.chromosome[i]\n",
        "        self.fitness = self._calcular_fitness()\n",
        "\n",
        "\n",
        "def algoritmo_genetico(tomas_actores, max_tomas_dia, tam_poblacion=100, num_generaciones=100, tasa_mutacion=0.05):\n",
        "    poblacion = [Individuo(tomas_actores, max_tomas_dia) for _ in range(tam_poblacion)]\n",
        "\n",
        "    for _ in range(num_generaciones):\n",
        "        poblacion.sort(key=attrgetter('fitness'), reverse=True)\n",
        "\n",
        "        poblacion_next = poblacion[:2]\n",
        "        while len(poblacion_next) < tam_poblacion:\n",
        "            parent1, parent2 = np.random.choice(poblacion[:50], size=2, replace=False)\n",
        "            child = parent1.crossover(parent2)\n",
        "            poblacion_next.append(child)\n",
        "\n",
        "        # Mutación\n",
        "        for individuo in poblacion_next[2:]:\n",
        "            if np.random.rand() < tasa_mutacion:\n",
        "                individuo.mutate()\n",
        "\n",
        "        poblacion = poblacion_next\n",
        "\n",
        "    best_individuo = max(poblacion, key=attrgetter('fitness'))\n",
        "    dias = [best_individuo.chromosome[i:i+max_tomas_dia] for i in range(0, len(best_individuo.chromosome), max_tomas_dia)]\n",
        "    return dias, -best_individuo.fitness"
      ],
      "execution_count": null,
      "outputs": []
    },
    {
      "cell_type": "markdown",
      "source": [
        "Gracias a que este algoritmo es mucho más rápido podemos probar con los datos reales del problema:"
      ],
      "metadata": {
        "id": "xguU9yqll0iN"
      }
    },
    {
      "cell_type": "code",
      "source": [
        "import time\n",
        "\n",
        "start_time = time.time()\n",
        "mejor_permutacion, costo_minimo = algoritmo_genetico(tomas, 6)\n",
        "end_time = time.time()\n",
        "\n",
        "print('Tiempo de ejecución Algoritmo Genético: ', round(end_time - start_time, 2), 'segundos')\n",
        "print('Mejor orden de tomas por días: ', mejor_permutacion)\n",
        "print('Costo mínimo: ', costo_minimo)"
      ],
      "metadata": {
        "colab": {
          "base_uri": "https://localhost:8080/"
        },
        "id": "Q71eZ8twl6wE",
        "outputId": "31991325-348a-4d87-b8b0-972fd8af8102"
      },
      "execution_count": null,
      "outputs": [
        {
          "output_type": "stream",
          "name": "stdout",
          "text": [
            "Tiempo de ejecución Algoritmo Genético:  2.74 segundos\n",
            "Mejor orden de tomas por días:  [[6, 11, 0, 25, 21, 9], [24, 15, 8, 5, 26, 27], [4, 14, 12, 10, 2, 3], [18, 20, 7, 13, 23, 22], [29, 19, 16, 1, 17, 28]]\n",
            "Costo mínimo:  29\n"
          ]
        }
      ]
    },
    {
      "cell_type": "markdown",
      "metadata": {
        "id": "3M6QjTsSkmYe"
      },
      "source": [
        "Según el problema (y tenga sentido), diseña un juego de datos de entrada aleatorios"
      ]
    },
    {
      "cell_type": "markdown",
      "metadata": {
        "id": "Jc3_OlyNkvjZ"
      },
      "source": [
        "Respuesta"
      ]
    },
    {
      "cell_type": "code",
      "metadata": {
        "id": "sJ-N2etjkyWc"
      },
      "source": [
        "def generar_tomas_actores(num_tomas, num_actores):\n",
        "    return np.array(np.random.randint(0, 2, (num_tomas, num_actores)))"
      ],
      "execution_count": null,
      "outputs": []
    },
    {
      "cell_type": "code",
      "source": [
        "datos = generar_tomas_actores(12,10)\n",
        "max_tomas = 4\n",
        "\n",
        "# Fuerza Bruta\n",
        "start_time = time.time()\n",
        "mejor_permutacion, costo_minimo = fuerza_bruta(datos, max_tomas)\n",
        "end_time = time.time()\n",
        "print('Tiempo de ejecución Fuerza Bruta: ', round(end_time - start_time, 2), 'segundos')\n",
        "print('Mejor orden de tomas por días: ', mejor_permutacion)\n",
        "print('Costo mínimo: ', costo_minimo)\n",
        "\n",
        "# Optimización de backtraking\n",
        "start_time = time.time()\n",
        "mejor_permutacion, costo_minimo = optimizar_backtraking(datos, max_tomas)\n",
        "end_time = time.time()\n",
        "print('Tiempo de ejecución backtraking: ', round(end_time - start_time, 2), 'segundos')\n",
        "print('Mejor orden de tomas por días: ', mejor_permutacion)\n",
        "print('Costo mínimo: ', costo_minimo)\n",
        "\n",
        "# Algoritmo Genético\n",
        "start_time = time.time()\n",
        "mejor_permutacion, costo_minimo = algoritmo_genetico(datos, max_tomas)\n",
        "end_time = time.time()\n",
        "print('Tiempo de ejecución Algoritmo Genético: ', round(end_time - start_time, 2), 'segundos')\n",
        "print('Mejor orden de tomas por días: ', mejor_permutacion)\n",
        "print('Costo mínimo: ', costo_minimo)"
      ],
      "metadata": {
        "colab": {
          "base_uri": "https://localhost:8080/"
        },
        "id": "De_uh3N_gUH5",
        "outputId": "38400f80-7708-4155-e25a-1f9ceb13af24"
      },
      "execution_count": null,
      "outputs": [
        {
          "output_type": "stream",
          "name": "stderr",
          "text": [
            "100%|██████████| 120553290/120553290 [02:36<00:00, 770498.49it/s]\n"
          ]
        },
        {
          "output_type": "stream",
          "name": "stdout",
          "text": [
            "Tiempo de ejecución Fuerza Bruta:  174.11 segundos\n",
            "Mejor orden de tomas por días:  ((0, 2, 3, 4), (1, 7, 8, 10), (5, 6, 9, 11))\n",
            "Costo mínimo:  22\n",
            "Tiempo de ejecución backtraking:  2.69 segundos\n",
            "Mejor orden de tomas por días:  [(0, 2, 3, 4), (1, 7, 8, 10), (9, 11, 5, 6)]\n",
            "Costo mínimo:  22\n",
            "Tiempo de ejecución Algoritmo Genético:  1.63 segundos\n",
            "Mejor orden de tomas por días:  [[2, 4, 0, 3], [9, 11, 6, 5], [7, 10, 1, 8]]\n",
            "Costo mínimo:  22\n"
          ]
        }
      ]
    },
    {
      "cell_type": "markdown",
      "metadata": {
        "id": "eTFWUJQrtGcv"
      },
      "source": [
        "Enumera las referencias que has utilizado(si ha sido necesario) para llevar a cabo el trabajo"
      ]
    },
    {
      "cell_type": "markdown",
      "metadata": {
        "id": "YKQ_mRBttWsP"
      },
      "source": [
        "Respuesta"
      ]
    },
    {
      "cell_type": "markdown",
      "source": [
        "*   Diapositivas de clase y la guía para ver códigos de ejemplo.\n",
        "*   Algunos apuntes de la asignatura de python para hacer las clases del algoritmo algoritmo_genetico."
      ],
      "metadata": {
        "id": "swL3Mz1Fhs8o"
      }
    },
    {
      "cell_type": "markdown",
      "metadata": {
        "id": "kAkDPUyRtYyH"
      },
      "source": [
        "Describe brevemente las lineas de como crees que es posible avanzar en el estudio del problema. Ten en cuenta incluso posibles variaciones del problema y/o variaciones al alza del tamaño"
      ]
    },
    {
      "cell_type": "markdown",
      "metadata": {
        "id": "IE0uZmo-tZu-"
      },
      "source": [
        "Respuesta"
      ]
    },
    {
      "cell_type": "markdown",
      "source": [
        "Este es un problema díficil, tanto de entenderlo como plantearlo. Los algoritmos mostrados son bastante simples, pero muy ineficientes ja que calculan todas las posibilidades.\n",
        "\n",
        "El backtraking puede evitar hacer algunas iteraciones, pero a priori no sabemos si va a ser más rápido.\n",
        "\n",
        "En el caso del algoritmo genético, aunque funciona muchisimo más rápido que los anteriores, el resultado puede no ser el óptimo, pero se le acerca bastante, y hay muchos parámetros que se pueden ajustar para dar un resultado más aproximado.\n",
        "\n",
        "A pesar de esto, hay un problema y es que es necesario que el número de tomas sea divisible por el máximo de tomas en un día, sino el algoritmo no funciona. Esto se debe a que hemos hecho la suposición de que los días estarán completos.\n",
        "\n",
        "Una posible mejora sería poder evitar esto y ver si incluso se podrían llegar a mejoras pudiendo dejar un día de 5, por ejemplo."
      ],
      "metadata": {
        "id": "dYIc7ZsjcI2l"
      }
    }
  ]
}